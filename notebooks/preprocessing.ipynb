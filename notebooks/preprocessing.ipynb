{
 "cells": [
  {
   "metadata": {},
   "cell_type": "markdown",
   "source": "# Preprocessing Notebook",
   "id": "8a77807f92f26ee"
  },
  {
   "metadata": {},
   "cell_type": "markdown",
   "source": "## Import libraries",
   "id": "39f6c1266b7d3cde"
  },
  {
   "metadata": {
    "ExecuteTime": {
     "end_time": "2025-08-25T17:53:51.613931Z",
     "start_time": "2025-08-25T17:53:51.434303Z"
    }
   },
   "cell_type": "code",
   "source": [
    "import pandas as pd\n",
    "import numpy as np"
   ],
   "id": "1f7b5a4e041e2f86",
   "outputs": [],
   "execution_count": 2
  },
  {
   "metadata": {},
   "cell_type": "markdown",
   "source": "## Load dataset",
   "id": "c2a60daae6490a70"
  },
  {
   "metadata": {
    "ExecuteTime": {
     "end_time": "2025-08-25T18:59:41.934447Z",
     "start_time": "2025-08-25T18:59:41.761435Z"
    }
   },
   "cell_type": "code",
   "source": [
    "med_articles_raw_df = pd.read_csv('../data/raw/challenge_data-18-ago.csv', sep=';')\n",
    "med_articles_raw_df.head()"
   ],
   "id": "726b02ce16d02348",
   "outputs": [
    {
     "data": {
      "text/plain": [
       "                                               title  \\\n",
       "0  Adrenoleukodystrophy: survey of 303 cases: bio...   \n",
       "1  endoscopy reveals ventricular tachycardia secrets   \n",
       "2        dementia and cholecystitis: organ interplay   \n",
       "3  The interpeduncular nucleus regulates nicotine...   \n",
       "4       guillain-barre syndrome pathways in leukemia   \n",
       "\n",
       "                                            abstract                     group  \n",
       "0  Adrenoleukodystrophy ( ALD ) is a genetically ...  neurological|hepatorenal  \n",
       "1  Research question: How does metformin affect c...              neurological  \n",
       "2  Purpose: This randomized controlled study exam...               hepatorenal  \n",
       "3  Partial lesions were made with kainic acid in ...              neurological  \n",
       "4  Hypothesis: statins improves stroke outcomes v...              neurological  "
      ],
      "text/html": [
       "<div>\n",
       "<style scoped>\n",
       "    .dataframe tbody tr th:only-of-type {\n",
       "        vertical-align: middle;\n",
       "    }\n",
       "\n",
       "    .dataframe tbody tr th {\n",
       "        vertical-align: top;\n",
       "    }\n",
       "\n",
       "    .dataframe thead th {\n",
       "        text-align: right;\n",
       "    }\n",
       "</style>\n",
       "<table border=\"1\" class=\"dataframe\">\n",
       "  <thead>\n",
       "    <tr style=\"text-align: right;\">\n",
       "      <th></th>\n",
       "      <th>title</th>\n",
       "      <th>abstract</th>\n",
       "      <th>group</th>\n",
       "    </tr>\n",
       "  </thead>\n",
       "  <tbody>\n",
       "    <tr>\n",
       "      <th>0</th>\n",
       "      <td>Adrenoleukodystrophy: survey of 303 cases: bio...</td>\n",
       "      <td>Adrenoleukodystrophy ( ALD ) is a genetically ...</td>\n",
       "      <td>neurological|hepatorenal</td>\n",
       "    </tr>\n",
       "    <tr>\n",
       "      <th>1</th>\n",
       "      <td>endoscopy reveals ventricular tachycardia secrets</td>\n",
       "      <td>Research question: How does metformin affect c...</td>\n",
       "      <td>neurological</td>\n",
       "    </tr>\n",
       "    <tr>\n",
       "      <th>2</th>\n",
       "      <td>dementia and cholecystitis: organ interplay</td>\n",
       "      <td>Purpose: This randomized controlled study exam...</td>\n",
       "      <td>hepatorenal</td>\n",
       "    </tr>\n",
       "    <tr>\n",
       "      <th>3</th>\n",
       "      <td>The interpeduncular nucleus regulates nicotine...</td>\n",
       "      <td>Partial lesions were made with kainic acid in ...</td>\n",
       "      <td>neurological</td>\n",
       "    </tr>\n",
       "    <tr>\n",
       "      <th>4</th>\n",
       "      <td>guillain-barre syndrome pathways in leukemia</td>\n",
       "      <td>Hypothesis: statins improves stroke outcomes v...</td>\n",
       "      <td>neurological</td>\n",
       "    </tr>\n",
       "  </tbody>\n",
       "</table>\n",
       "</div>"
      ]
     },
     "execution_count": 6,
     "metadata": {},
     "output_type": "execute_result"
    }
   ],
   "execution_count": 6
  },
  {
   "metadata": {},
   "cell_type": "markdown",
   "source": "## Exploration",
   "id": "de8bedabb909213a"
  },
  {
   "metadata": {
    "ExecuteTime": {
     "end_time": "2025-08-25T19:04:14.298381Z",
     "start_time": "2025-08-25T19:04:14.247401Z"
    }
   },
   "cell_type": "code",
   "source": "med_articles_raw_df.info()",
   "id": "fa6162e72328462e",
   "outputs": [
    {
     "name": "stdout",
     "output_type": "stream",
     "text": [
      "<class 'pandas.core.frame.DataFrame'>\n",
      "RangeIndex: 3565 entries, 0 to 3564\n",
      "Data columns (total 3 columns):\n",
      " #   Column    Non-Null Count  Dtype \n",
      "---  ------    --------------  ----- \n",
      " 0   title     3565 non-null   object\n",
      " 1   abstract  3565 non-null   object\n",
      " 2   group     3565 non-null   object\n",
      "dtypes: object(3)\n",
      "memory usage: 83.7+ KB\n"
     ]
    }
   ],
   "execution_count": 7
  },
  {
   "metadata": {
    "ExecuteTime": {
     "end_time": "2025-08-25T19:05:09.377958Z",
     "start_time": "2025-08-25T19:05:09.348960Z"
    }
   },
   "cell_type": "code",
   "source": "med_articles_raw_df.describe()",
   "id": "cc808d18d2321cfa",
   "outputs": [
    {
     "data": {
      "text/plain": [
       "                                                    title  \\\n",
       "count                                                3565   \n",
       "unique                                               3563   \n",
       "top     State-of-the-art thiazide diuretics for prosta...   \n",
       "freq                                                    2   \n",
       "\n",
       "                                                 abstract         group  \n",
       "count                                                3565          3565  \n",
       "unique                                               3565            15  \n",
       "top     Aim: To investigate aspirin effects on heart d...  neurological  \n",
       "freq                                                    1          1058  "
      ],
      "text/html": [
       "<div>\n",
       "<style scoped>\n",
       "    .dataframe tbody tr th:only-of-type {\n",
       "        vertical-align: middle;\n",
       "    }\n",
       "\n",
       "    .dataframe tbody tr th {\n",
       "        vertical-align: top;\n",
       "    }\n",
       "\n",
       "    .dataframe thead th {\n",
       "        text-align: right;\n",
       "    }\n",
       "</style>\n",
       "<table border=\"1\" class=\"dataframe\">\n",
       "  <thead>\n",
       "    <tr style=\"text-align: right;\">\n",
       "      <th></th>\n",
       "      <th>title</th>\n",
       "      <th>abstract</th>\n",
       "      <th>group</th>\n",
       "    </tr>\n",
       "  </thead>\n",
       "  <tbody>\n",
       "    <tr>\n",
       "      <th>count</th>\n",
       "      <td>3565</td>\n",
       "      <td>3565</td>\n",
       "      <td>3565</td>\n",
       "    </tr>\n",
       "    <tr>\n",
       "      <th>unique</th>\n",
       "      <td>3563</td>\n",
       "      <td>3565</td>\n",
       "      <td>15</td>\n",
       "    </tr>\n",
       "    <tr>\n",
       "      <th>top</th>\n",
       "      <td>State-of-the-art thiazide diuretics for prosta...</td>\n",
       "      <td>Aim: To investigate aspirin effects on heart d...</td>\n",
       "      <td>neurological</td>\n",
       "    </tr>\n",
       "    <tr>\n",
       "      <th>freq</th>\n",
       "      <td>2</td>\n",
       "      <td>1</td>\n",
       "      <td>1058</td>\n",
       "    </tr>\n",
       "  </tbody>\n",
       "</table>\n",
       "</div>"
      ]
     },
     "execution_count": 8,
     "metadata": {},
     "output_type": "execute_result"
    }
   ],
   "execution_count": 8
  },
  {
   "metadata": {
    "ExecuteTime": {
     "end_time": "2025-08-25T19:05:57.405034Z",
     "start_time": "2025-08-25T19:05:57.391037Z"
    }
   },
   "cell_type": "code",
   "source": "med_articles_raw_df.isnull().sum()",
   "id": "a1af3877227249e5",
   "outputs": [
    {
     "data": {
      "text/plain": [
       "title       0\n",
       "abstract    0\n",
       "group       0\n",
       "dtype: int64"
      ]
     },
     "execution_count": 9,
     "metadata": {},
     "output_type": "execute_result"
    }
   ],
   "execution_count": 9
  },
  {
   "metadata": {
    "ExecuteTime": {
     "end_time": "2025-08-25T20:46:05.550479Z",
     "start_time": "2025-08-25T20:46:05.304457Z"
    }
   },
   "cell_type": "code",
   "source": "med_articles_raw_df.duplicated().sum()",
   "id": "387b251f1fcf71c2",
   "outputs": [
    {
     "data": {
      "text/plain": [
       "np.int64(0)"
      ]
     },
     "execution_count": 10,
     "metadata": {},
     "output_type": "execute_result"
    }
   ],
   "execution_count": 10
  },
  {
   "metadata": {},
   "cell_type": "markdown",
   "source": "## Data Cleaning",
   "id": "de91fab869849b37"
  },
  {
   "metadata": {
    "ExecuteTime": {
     "end_time": "2025-08-25T21:58:17.002837Z",
     "start_time": "2025-08-25T21:58:16.975836Z"
    }
   },
   "cell_type": "code",
   "source": "med_articles_proc_df = med_articles_raw_df.map(lambda x: x.lower() if isinstance(x, str) else x)",
   "id": "b8d2e859b5910d0",
   "outputs": [],
   "execution_count": 26
  },
  {
   "metadata": {
    "ExecuteTime": {
     "end_time": "2025-08-25T21:58:22.306063Z",
     "start_time": "2025-08-25T21:58:22.285062Z"
    }
   },
   "cell_type": "code",
   "source": "med_articles_proc_df.head()",
   "id": "112470f59d28a83c",
   "outputs": [
    {
     "data": {
      "text/plain": [
       "                                               title  \\\n",
       "0  adrenoleukodystrophy: survey of 303 cases: bio...   \n",
       "1  endoscopy reveals ventricular tachycardia secrets   \n",
       "2        dementia and cholecystitis: organ interplay   \n",
       "3  the interpeduncular nucleus regulates nicotine...   \n",
       "4       guillain-barre syndrome pathways in leukemia   \n",
       "\n",
       "                                            abstract                     group  \n",
       "0  adrenoleukodystrophy ( ald ) is a genetically ...  neurological|hepatorenal  \n",
       "1  research question: how does metformin affect c...              neurological  \n",
       "2  purpose: this randomized controlled study exam...               hepatorenal  \n",
       "3  partial lesions were made with kainic acid in ...              neurological  \n",
       "4  hypothesis: statins improves stroke outcomes v...              neurological  "
      ],
      "text/html": [
       "<div>\n",
       "<style scoped>\n",
       "    .dataframe tbody tr th:only-of-type {\n",
       "        vertical-align: middle;\n",
       "    }\n",
       "\n",
       "    .dataframe tbody tr th {\n",
       "        vertical-align: top;\n",
       "    }\n",
       "\n",
       "    .dataframe thead th {\n",
       "        text-align: right;\n",
       "    }\n",
       "</style>\n",
       "<table border=\"1\" class=\"dataframe\">\n",
       "  <thead>\n",
       "    <tr style=\"text-align: right;\">\n",
       "      <th></th>\n",
       "      <th>title</th>\n",
       "      <th>abstract</th>\n",
       "      <th>group</th>\n",
       "    </tr>\n",
       "  </thead>\n",
       "  <tbody>\n",
       "    <tr>\n",
       "      <th>0</th>\n",
       "      <td>adrenoleukodystrophy: survey of 303 cases: bio...</td>\n",
       "      <td>adrenoleukodystrophy ( ald ) is a genetically ...</td>\n",
       "      <td>neurological|hepatorenal</td>\n",
       "    </tr>\n",
       "    <tr>\n",
       "      <th>1</th>\n",
       "      <td>endoscopy reveals ventricular tachycardia secrets</td>\n",
       "      <td>research question: how does metformin affect c...</td>\n",
       "      <td>neurological</td>\n",
       "    </tr>\n",
       "    <tr>\n",
       "      <th>2</th>\n",
       "      <td>dementia and cholecystitis: organ interplay</td>\n",
       "      <td>purpose: this randomized controlled study exam...</td>\n",
       "      <td>hepatorenal</td>\n",
       "    </tr>\n",
       "    <tr>\n",
       "      <th>3</th>\n",
       "      <td>the interpeduncular nucleus regulates nicotine...</td>\n",
       "      <td>partial lesions were made with kainic acid in ...</td>\n",
       "      <td>neurological</td>\n",
       "    </tr>\n",
       "    <tr>\n",
       "      <th>4</th>\n",
       "      <td>guillain-barre syndrome pathways in leukemia</td>\n",
       "      <td>hypothesis: statins improves stroke outcomes v...</td>\n",
       "      <td>neurological</td>\n",
       "    </tr>\n",
       "  </tbody>\n",
       "</table>\n",
       "</div>"
      ]
     },
     "execution_count": 27,
     "metadata": {},
     "output_type": "execute_result"
    }
   ],
   "execution_count": 27
  },
  {
   "metadata": {
    "ExecuteTime": {
     "end_time": "2025-08-25T21:58:26.438329Z",
     "start_time": "2025-08-25T21:58:26.415332Z"
    }
   },
   "cell_type": "code",
   "source": [
    "from sklearn.preprocessing import MultiLabelBinarizer\n",
    "\n",
    "med_articles_proc_df['group'] = med_articles_proc_df['group'].str.split('|')\n",
    "\n",
    "mlb = MultiLabelBinarizer()\n",
    "\n",
    "group_dummies = pd.DataFrame(mlb.fit_transform(med_articles_proc_df['group']), columns=mlb.classes_, index=med_articles_proc_df.index)\n",
    "\n",
    "med_articles_proc_df = pd.concat([med_articles_proc_df.drop('group', axis=1), group_dummies], axis=1)"
   ],
   "id": "8b6c32e6134158d9",
   "outputs": [],
   "execution_count": 28
  },
  {
   "metadata": {
    "ExecuteTime": {
     "end_time": "2025-08-25T21:58:32.188082Z",
     "start_time": "2025-08-25T21:58:32.164084Z"
    }
   },
   "cell_type": "code",
   "source": "med_articles_proc_df.head()",
   "id": "d0e4e5ccab524080",
   "outputs": [
    {
     "data": {
      "text/plain": [
       "                                               title  \\\n",
       "0  adrenoleukodystrophy: survey of 303 cases: bio...   \n",
       "1  endoscopy reveals ventricular tachycardia secrets   \n",
       "2        dementia and cholecystitis: organ interplay   \n",
       "3  the interpeduncular nucleus regulates nicotine...   \n",
       "4       guillain-barre syndrome pathways in leukemia   \n",
       "\n",
       "                                            abstract  cardiovascular  \\\n",
       "0  adrenoleukodystrophy ( ald ) is a genetically ...               0   \n",
       "1  research question: how does metformin affect c...               0   \n",
       "2  purpose: this randomized controlled study exam...               0   \n",
       "3  partial lesions were made with kainic acid in ...               0   \n",
       "4  hypothesis: statins improves stroke outcomes v...               0   \n",
       "\n",
       "   hepatorenal  neurological  oncological  \n",
       "0            1             1            0  \n",
       "1            0             1            0  \n",
       "2            1             0            0  \n",
       "3            0             1            0  \n",
       "4            0             1            0  "
      ],
      "text/html": [
       "<div>\n",
       "<style scoped>\n",
       "    .dataframe tbody tr th:only-of-type {\n",
       "        vertical-align: middle;\n",
       "    }\n",
       "\n",
       "    .dataframe tbody tr th {\n",
       "        vertical-align: top;\n",
       "    }\n",
       "\n",
       "    .dataframe thead th {\n",
       "        text-align: right;\n",
       "    }\n",
       "</style>\n",
       "<table border=\"1\" class=\"dataframe\">\n",
       "  <thead>\n",
       "    <tr style=\"text-align: right;\">\n",
       "      <th></th>\n",
       "      <th>title</th>\n",
       "      <th>abstract</th>\n",
       "      <th>cardiovascular</th>\n",
       "      <th>hepatorenal</th>\n",
       "      <th>neurological</th>\n",
       "      <th>oncological</th>\n",
       "    </tr>\n",
       "  </thead>\n",
       "  <tbody>\n",
       "    <tr>\n",
       "      <th>0</th>\n",
       "      <td>adrenoleukodystrophy: survey of 303 cases: bio...</td>\n",
       "      <td>adrenoleukodystrophy ( ald ) is a genetically ...</td>\n",
       "      <td>0</td>\n",
       "      <td>1</td>\n",
       "      <td>1</td>\n",
       "      <td>0</td>\n",
       "    </tr>\n",
       "    <tr>\n",
       "      <th>1</th>\n",
       "      <td>endoscopy reveals ventricular tachycardia secrets</td>\n",
       "      <td>research question: how does metformin affect c...</td>\n",
       "      <td>0</td>\n",
       "      <td>0</td>\n",
       "      <td>1</td>\n",
       "      <td>0</td>\n",
       "    </tr>\n",
       "    <tr>\n",
       "      <th>2</th>\n",
       "      <td>dementia and cholecystitis: organ interplay</td>\n",
       "      <td>purpose: this randomized controlled study exam...</td>\n",
       "      <td>0</td>\n",
       "      <td>1</td>\n",
       "      <td>0</td>\n",
       "      <td>0</td>\n",
       "    </tr>\n",
       "    <tr>\n",
       "      <th>3</th>\n",
       "      <td>the interpeduncular nucleus regulates nicotine...</td>\n",
       "      <td>partial lesions were made with kainic acid in ...</td>\n",
       "      <td>0</td>\n",
       "      <td>0</td>\n",
       "      <td>1</td>\n",
       "      <td>0</td>\n",
       "    </tr>\n",
       "    <tr>\n",
       "      <th>4</th>\n",
       "      <td>guillain-barre syndrome pathways in leukemia</td>\n",
       "      <td>hypothesis: statins improves stroke outcomes v...</td>\n",
       "      <td>0</td>\n",
       "      <td>0</td>\n",
       "      <td>1</td>\n",
       "      <td>0</td>\n",
       "    </tr>\n",
       "  </tbody>\n",
       "</table>\n",
       "</div>"
      ]
     },
     "execution_count": 29,
     "metadata": {},
     "output_type": "execute_result"
    }
   ],
   "execution_count": 29
  },
  {
   "metadata": {
    "ExecuteTime": {
     "end_time": "2025-08-25T22:39:28.655403Z",
     "start_time": "2025-08-25T22:39:28.479863Z"
    }
   },
   "cell_type": "code",
   "source": "med_articles_proc_df.to_csv('../data/processed/medical_articles_data_processed.csv', index=False, sep=';', encoding='utf-8')",
   "id": "7cb83531012fa19a",
   "outputs": [],
   "execution_count": 31
  }
 ],
 "metadata": {
  "kernelspec": {
   "display_name": "Python 3",
   "language": "python",
   "name": "python3"
  },
  "language_info": {
   "codemirror_mode": {
    "name": "ipython",
    "version": 2
   },
   "file_extension": ".py",
   "mimetype": "text/x-python",
   "name": "python",
   "nbconvert_exporter": "python",
   "pygments_lexer": "ipython2",
   "version": "2.7.6"
  }
 },
 "nbformat": 4,
 "nbformat_minor": 5
}
